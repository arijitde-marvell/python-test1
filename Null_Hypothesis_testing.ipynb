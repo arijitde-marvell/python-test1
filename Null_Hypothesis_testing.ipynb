{
  "nbformat": 4,
  "nbformat_minor": 0,
  "metadata": {
    "colab": {
      "name": "Null_Hypothesis_testing.ipynb",
      "provenance": [],
      "collapsed_sections": [],
      "include_colab_link": true
    },
    "kernelspec": {
      "name": "python3",
      "display_name": "Python 3"
    }
  },
  "cells": [
    {
      "cell_type": "markdown",
      "metadata": {
        "id": "view-in-github",
        "colab_type": "text"
      },
      "source": [
        "<a href=\"https://colab.research.google.com/github/arijitde-marvell/python-test1/blob/master/Null_Hypothesis_testing.ipynb\" target=\"_parent\"><img src=\"https://colab.research.google.com/assets/colab-badge.svg\" alt=\"Open In Colab\"/></a>"
      ]
    },
    {
      "cell_type": "code",
      "metadata": {
        "id": "86IgdjFtsRzQ",
        "colab_type": "code",
        "colab": {}
      },
      "source": [
        "# Null Hypotheis H0 : Marriage age of Blr IT profetions is 30\n",
        "# Ha (Alternate hypothesis): Marriage age of Blr IT profetions is not 30\n",
        "\n",
        "# One sample T-test"
      ],
      "execution_count": 0,
      "outputs": []
    },
    {
      "cell_type": "code",
      "metadata": {
        "id": "WJyB28uFvorW",
        "colab_type": "code",
        "colab": {
          "base_uri": "https://localhost:8080/",
          "height": 34
        },
        "outputId": "add80138-8798-4ded-ced1-3ea1e351beba"
      },
      "source": [
        "from scipy import stats\n",
        "banglore_mar_age = [30,35,32, 33,29, 27, 30, 29]\n",
        "\n",
        "#notrmalty test\n",
        "print(stats.skew(banglore_mar_age), stats.kurtosis(banglore_mar_age))"
      ],
      "execution_count": 1,
      "outputs": [
        {
          "output_type": "stream",
          "text": [
            "0.391710162990888 -0.7622151771859618\n"
          ],
          "name": "stdout"
        }
      ]
    },
    {
      "cell_type": "code",
      "metadata": {
        "id": "z3b-Vbz2vseW",
        "colab_type": "code",
        "colab": {
          "base_uri": "https://localhost:8080/",
          "height": 34
        },
        "outputId": "6d5f92dc-59a6-4c39-bc3e-da1c90cbf1ff"
      },
      "source": [
        "stats.ttest_1samp(banglore_mar_age, 30)"
      ],
      "execution_count": 2,
      "outputs": [
        {
          "output_type": "execute_result",
          "data": {
            "text/plain": [
              "Ttest_1sampResult(statistic=0.6905354712519993, pvalue=0.5120968099862874)"
            ]
          },
          "metadata": {
            "tags": []
          },
          "execution_count": 2
        }
      ]
    },
    {
      "cell_type": "code",
      "metadata": {
        "id": "ap0AmtDAvvze",
        "colab_type": "code",
        "colab": {}
      },
      "source": [
        "# if the pvalue P<5%, reject the hypothesis and accept the alternate hypothesis\n",
        "# as per the above probablilty is pvalue= 0.51 -> 51%, so we have to accept it.\n",
        "# T-value (statistic=0.69), if T < T-Critical(refer T-value table) then "
      ],
      "execution_count": 0,
      "outputs": []
    },
    {
      "cell_type": "code",
      "metadata": {
        "id": "Po1owK7YvxNw",
        "colab_type": "code",
        "colab": {
          "base_uri": "https://localhost:8080/",
          "height": 282
        },
        "outputId": "991c7e86-8fb7-4815-a2a6-9b7c637a7f7a"
      },
      "source": [
        "# draw a histogram\n",
        "import seaborn as sb\n",
        "# print the graph here\n",
        "%matplotlib inline\n",
        "sb.distplot(banglore_mar_age)"
      ],
      "execution_count": 3,
      "outputs": [
        {
          "output_type": "execute_result",
          "data": {
            "text/plain": [
              "<matplotlib.axes._subplots.AxesSubplot at 0x7f9099736da0>"
            ]
          },
          "metadata": {
            "tags": []
          },
          "execution_count": 3
        },
        {
          "output_type": "display_data",
          "data": {
            "image/png": "[encoded data removed]",
            "text/plain": [
              "<Figure size 432x288 with 1 Axes>"
            ]
          },
          "metadata": {
            "tags": []
          }
        }
      ]
    },
    {
      "cell_type": "code",
      "metadata": {
        "id": "3z9CLKBOvyxt",
        "colab_type": "code",
        "colab": {}
      },
      "source": [
        ""
      ],
      "execution_count": 0,
      "outputs": []
    }
  ]
}